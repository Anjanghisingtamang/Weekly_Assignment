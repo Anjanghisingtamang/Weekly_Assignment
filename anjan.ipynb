{
 "cells": [
  {
   "cell_type": "code",
   "execution_count": 7,
   "metadata": {},
   "outputs": [
    {
     "name": "stdout",
     "output_type": "stream",
     "text": [
      "[(10, 20, 100), (40, 50, 100), (70, 80, 100)]\n"
     ]
    }
   ],
   "source": [
    "### Q. Write a Python program to replace last value of tuples in a list. \n",
    "tuple = [(10, 20, 40), (40, 50, 60), (70, 80, 90)]\n",
    "print([t[:-1] + (100,) for t in tuple])"
   ]
  },
  {
   "cell_type": "code",
   "execution_count": 9,
   "metadata": {},
   "outputs": [
    {
     "name": "stdout",
     "output_type": "stream",
     "text": [
      "tHIS IS Me 123\n"
     ]
    }
   ],
   "source": [
    "# Q. You are given a string and your task is to swap cases. In other words, convert all lowercase letters to uppercase letters and vice versa.\n",
    "\n",
    "#input: 'This is mE 123'\n",
    "#output: 'tHIS IS Me 123'\n",
    "input = 'This is mE 123'\n",
    "output=''\n",
    "for i in input:\n",
    "  if(ord(i)>=65 and ord(i)<=90):\n",
    "      output += chr(ord(i)+32)\n",
    "  elif(ord(i)>=97 and ord(i)<=122):\n",
    "      output +=chr(ord(i)-32)\n",
    "  else:\n",
    "      output +=chr(ord(i))\n",
    "      \n",
    "print(output)"
   ]
  },
  {
   "cell_type": "code",
   "execution_count": 21,
   "metadata": {},
   "outputs": [
    {
     "name": "stdout",
     "output_type": "stream",
     "text": [
      "2\n"
     ]
    }
   ],
   "source": [
    "# Q. The user enters a string and a substring. You have to print the number of times that the substring occurs in the given string. String traversal will take place from left to right, not from right to left.\n",
    "\n",
    "#Input: ABCDCDC\n",
    "#CD\n",
    "#Output:2\n",
    "input = 'ABCDCDC'\n",
    "sub ='CDC'\n",
    "count = 0\n",
    "a = len(input)\n",
    "for i in range(0,len(input)):\n",
    "    if input[i:i+len(sub)]==sub:\n",
    "        count += 1\n",
    "\n",
    "print(count)"
   ]
  },
  {
   "cell_type": "code",
   "execution_count": 7,
   "metadata": {},
   "outputs": [
    {
     "name": "stdout",
     "output_type": "stream",
     "text": [
      "input character: 123\n",
      "only chara\n",
      "input character: 12nkfj\n",
      "only chara\n",
      "input character: anjandfa\n",
      "ajnf"
     ]
    }
   ],
   "source": [
    "# Q.Write a class in which its one method accepts a string from consoleand another method to print the characters that have even indexes.\n",
    "while True:\n",
    "    name = input(\"input character: \")\n",
    "    if name.isalpha():\n",
    "        break\n",
    "    print(\"only chara\")\n",
    "for index in range(len(name)):\n",
    "    #checks the even indexes and print it\n",
    "    if(index % 2 == 0):\n",
    "        print(name[index], end=\"\")  "
   ]
  },
  {
   "cell_type": "code",
   "execution_count": null,
   "metadata": {},
   "outputs": [],
   "source": []
  },
  {
   "cell_type": "code",
   "execution_count": null,
   "metadata": {},
   "outputs": [],
   "source": []
  }
 ],
 "metadata": {
  "kernelspec": {
   "display_name": "Python 3",
   "language": "python",
   "name": "python3"
  },
  "language_info": {
   "codemirror_mode": {
    "name": "ipython",
    "version": 3
   },
   "file_extension": ".py",
   "mimetype": "text/x-python",
   "name": "python",
   "nbconvert_exporter": "python",
   "pygments_lexer": "ipython3",
   "version": "3.6.5"
  }
 },
 "nbformat": 4,
 "nbformat_minor": 2
}
